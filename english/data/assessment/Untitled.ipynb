{
 "cells": [
  {
   "cell_type": "code",
   "execution_count": 2,
   "id": "ee9af2ec",
   "metadata": {},
   "outputs": [],
   "source": [
    "import csv\n",
    "index=[]\n",
    "note=[]\n",
    "with open('test_ini.csv',encoding='utf8') as f:\n",
    "        f_csv=csv.reader(f)\n",
    "        headers = next(f_csv)\n",
    "        for row in f_csv:\n",
    "            index.append(row[0])\n",
    "            note.append(row[2])"
   ]
  },
  {
   "cell_type": "code",
   "execution_count": 3,
   "id": "57b9a3cd",
   "metadata": {},
   "outputs": [
    {
     "ename": "FileNotFoundError",
     "evalue": "[Errno 2] No such file or directory: 'data/test_ini.json'",
     "output_type": "error",
     "traceback": [
      "\u001b[0;31m---------------------------------------------------------------------------\u001b[0m",
      "\u001b[0;31mFileNotFoundError\u001b[0m                         Traceback (most recent call last)",
      "Cell \u001b[0;32mIn[3], line 41\u001b[0m\n\u001b[1;32m     39\u001b[0m         \u001b[38;5;28;01mif\u001b[39;00m typename\u001b[38;5;241m==\u001b[39m\u001b[38;5;124m'\u001b[39m\u001b[38;5;124mtest\u001b[39m\u001b[38;5;124m'\u001b[39m:\n\u001b[1;32m     40\u001b[0m             test_data\u001b[38;5;241m.\u001b[39mappend(temp)\n\u001b[0;32m---> 41\u001b[0m \u001b[43mread_data\u001b[49m\u001b[43m(\u001b[49m\u001b[38;5;124;43m'\u001b[39;49m\u001b[38;5;124;43mtest\u001b[39;49m\u001b[38;5;124;43m'\u001b[39;49m\u001b[43m,\u001b[49m\u001b[38;5;124;43m'\u001b[39;49m\u001b[38;5;124;43mdata/test.json\u001b[39;49m\u001b[38;5;124;43m'\u001b[39;49m\u001b[43m,\u001b[49m\u001b[38;5;124;43m'\u001b[39;49m\u001b[38;5;124;43mdata/test_ini.json\u001b[39;49m\u001b[38;5;124;43m'\u001b[39;49m\u001b[43m)\u001b[49m\n",
      "Cell \u001b[0;32mIn[3], line 10\u001b[0m, in \u001b[0;36mread_data\u001b[0;34m(typename, file_path_chosen, file_path_reject)\u001b[0m\n\u001b[1;32m      6\u001b[0m     reject\u001b[38;5;241m=\u001b[39m[]\n\u001b[1;32m      7\u001b[0m \u001b[38;5;66;03m#     file_path_chosen='data/test.json'\u001b[39;00m\n\u001b[1;32m      8\u001b[0m \u001b[38;5;66;03m#     file_path_reject='data/test_ini.json'\u001b[39;00m\n\u001b[1;32m      9\u001b[0m \u001b[38;5;66;03m#     file_path_dia='data/dialogue.csv'\u001b[39;00m\n\u001b[0;32m---> 10\u001b[0m     \u001b[38;5;28;01mwith\u001b[39;00m \u001b[38;5;28;43mopen\u001b[39;49m\u001b[43m(\u001b[49m\u001b[43mfile_path_reject\u001b[49m\u001b[43m,\u001b[49m\u001b[43m \u001b[49m\u001b[38;5;124;43m'\u001b[39;49m\u001b[38;5;124;43mr\u001b[39;49m\u001b[38;5;124;43m'\u001b[39;49m\u001b[43m,\u001b[49m\u001b[43m \u001b[49m\u001b[43mencoding\u001b[49m\u001b[38;5;241;43m=\u001b[39;49m\u001b[38;5;124;43m'\u001b[39;49m\u001b[38;5;124;43mutf8\u001b[39;49m\u001b[38;5;124;43m'\u001b[39;49m\u001b[43m)\u001b[49m \u001b[38;5;28;01mas\u001b[39;00m f:\n\u001b[1;32m     11\u001b[0m         data \u001b[38;5;241m=\u001b[39m json\u001b[38;5;241m.\u001b[39mload(f)\n\u001b[1;32m     12\u001b[0m     \u001b[38;5;28;01mwith\u001b[39;00m \u001b[38;5;28mopen\u001b[39m(file_path_chosen, \u001b[38;5;124m'\u001b[39m\u001b[38;5;124mr\u001b[39m\u001b[38;5;124m'\u001b[39m, encoding\u001b[38;5;241m=\u001b[39m\u001b[38;5;124m'\u001b[39m\u001b[38;5;124mutf8\u001b[39m\u001b[38;5;124m'\u001b[39m) \u001b[38;5;28;01mas\u001b[39;00m f:\n",
      "File \u001b[0;32m/opt/conda/envs/paddle/lib/python3.8/site-packages/IPython/core/interactiveshell.py:282\u001b[0m, in \u001b[0;36m_modified_open\u001b[0;34m(file, *args, **kwargs)\u001b[0m\n\u001b[1;32m    275\u001b[0m \u001b[38;5;28;01mif\u001b[39;00m file \u001b[38;5;129;01min\u001b[39;00m {\u001b[38;5;241m0\u001b[39m, \u001b[38;5;241m1\u001b[39m, \u001b[38;5;241m2\u001b[39m}:\n\u001b[1;32m    276\u001b[0m     \u001b[38;5;28;01mraise\u001b[39;00m \u001b[38;5;167;01mValueError\u001b[39;00m(\n\u001b[1;32m    277\u001b[0m         \u001b[38;5;124mf\u001b[39m\u001b[38;5;124m\"\u001b[39m\u001b[38;5;124mIPython won\u001b[39m\u001b[38;5;124m'\u001b[39m\u001b[38;5;124mt let you open fd=\u001b[39m\u001b[38;5;132;01m{\u001b[39;00mfile\u001b[38;5;132;01m}\u001b[39;00m\u001b[38;5;124m by default \u001b[39m\u001b[38;5;124m\"\u001b[39m\n\u001b[1;32m    278\u001b[0m         \u001b[38;5;124m\"\u001b[39m\u001b[38;5;124mas it is likely to crash IPython. If you know what you are doing, \u001b[39m\u001b[38;5;124m\"\u001b[39m\n\u001b[1;32m    279\u001b[0m         \u001b[38;5;124m\"\u001b[39m\u001b[38;5;124myou can use builtins\u001b[39m\u001b[38;5;124m'\u001b[39m\u001b[38;5;124m open.\u001b[39m\u001b[38;5;124m\"\u001b[39m\n\u001b[1;32m    280\u001b[0m     )\n\u001b[0;32m--> 282\u001b[0m \u001b[38;5;28;01mreturn\u001b[39;00m \u001b[43mio_open\u001b[49m\u001b[43m(\u001b[49m\u001b[43mfile\u001b[49m\u001b[43m,\u001b[49m\u001b[43m \u001b[49m\u001b[38;5;241;43m*\u001b[39;49m\u001b[43margs\u001b[49m\u001b[43m,\u001b[49m\u001b[43m \u001b[49m\u001b[38;5;241;43m*\u001b[39;49m\u001b[38;5;241;43m*\u001b[39;49m\u001b[43mkwargs\u001b[49m\u001b[43m)\u001b[49m\n",
      "\u001b[0;31mFileNotFoundError\u001b[0m: [Errno 2] No such file or directory: 'data/test_ini.json'"
     ]
    }
   ],
   "source": [
    "import json\n",
    "test_data=[]\n",
    "def read_data(typename,file_path_chosen,file_path_reject):   \n",
    "    index=[]\n",
    "    chosen=[]\n",
    "    reject=[]\n",
    "#     file_path_chosen='data/test.json'\n",
    "#     file_path_reject='data/test_ini.json'\n",
    "#     file_path_dia='data/dialogue.csv'\n",
    "    with open(file_path_reject, 'r', encoding='utf8') as f:\n",
    "        data = json.load(f)\n",
    "    with open(file_path_chosen, 'r', encoding='utf8') as f:\n",
    "        data2 = json.load(f)\n",
    "    for i in range(len(data['data'])):\n",
    "        if data['data'][i][\"subjective\"][\"HISTORY OF PRESENT ILLNESS\"]!=\"\" and data2['data'][i][\"subjective\"][\"HISTORY OF PRESENT ILLNESS\"]!=\"\":\n",
    "            index.append(data['data'][i]['encounter_id'])\n",
    "    for item in data['data']:\n",
    "        if item['encounter_id'] not in index:\n",
    "            continue\n",
    "        else:\n",
    "            reject.append(item[\"subjective\"][\"HISTORY OF PRESENT ILLNESS\"].replace('\\u2022',' ').replace('\\n',' ').replace('  ',' '))\n",
    "    for item in data2['data']:\n",
    "        if item['file'][:item['file'].rfind('-')].replace('-','') in index:\n",
    "            chosen.append(item[\"subjective\"][\"HISTORY OF PRESENT ILLNESS\"])\n",
    "        else:               \n",
    "            continue\n",
    "#     print(index[0])\n",
    "#     print(file_path_dia)\n",
    "#     print(index[0])\n",
    "#     print(len(reject))\n",
    "#     print(len(chosen))\n",
    "#     print(len(dialogue))\n",
    "    for i in range(len(index)):\n",
    "        temp={'index':index[i],'chosen':chosen[i],'rejected':reject[i]}\n",
    "        if typename=='train':\n",
    "            train_data.append(temp)\n",
    "        if typename=='val':\n",
    "            valid_data.append(temp)\n",
    "        if typename=='test':\n",
    "            test_data.append(temp)\n",
    "read_data('test','/data/test.json','/data/test_ini.json')"
   ]
  },
  {
   "cell_type": "code",
   "execution_count": null,
   "id": "dda2ef38",
   "metadata": {},
   "outputs": [],
   "source": [
    "file_path='hpi_test_900_8-11_real.csv'\n",
    "hpi_refine={}\n",
    "import csv\n",
    "with open(file_path,encoding='utf8') as f:\n",
    "        i=0    \n",
    "        f_csv=csv.reader(f)\n",
    "        headers = next(f_csv)\n",
    "        for row in f_csv:\n",
    "            hpi_refine.setdefault(row[0],row[1].replace('\\u2022',' ').replace('\\n',' ').replace('  ',' '))"
   ]
  },
  {
   "cell_type": "code",
   "execution_count": null,
   "id": "c0dd0cc4",
   "metadata": {},
   "outputs": [],
   "source": [
    "for i in range(len(test_data)):\n",
    "     if test_data[i]['rejected'] in text_ini[test_data[i]['index']]:\n",
    "            print(test_data[i]['index'])\n",
    "            text_ini[test_data[i]['index']]=text_ini[test_data[i]['index']].replace(test_data[i]['rejected'],hpi_refine[test_data[i]['index']])"
   ]
  },
  {
   "cell_type": "code",
   "execution_count": null,
   "id": "1426abb7",
   "metadata": {},
   "outputs": [],
   "source": []
  },
  {
   "cell_type": "code",
   "execution_count": 9,
   "id": "5af85d67",
   "metadata": {},
   "outputs": [],
   "source": [
    "def save_csv(total,i,rname):\n",
    "    with open(rname, 'a', newline='') as file:\n",
    "        writer = csv.writer(file)\n",
    "        if i==1:\n",
    "            writer.writerow([\"encounter_id\", \"note\",])\n",
    "        writer.writerow([index[i],total])\n",
    "rname='ini_eval.csv'\n",
    "\n",
    "for i in range(len(index)):\n",
    "    if i==0:\n",
    "        continue\n",
    "    save_csv(note[i],i,rname)"
   ]
  },
  {
   "cell_type": "code",
   "execution_count": null,
   "id": "205ad4ae",
   "metadata": {},
   "outputs": [],
   "source": [
    "from nltk.translate.meteor_score import meteor_score, single_meteor_score\n",
    "import json\n",
    "from unidecode import unidecode\n",
    "from nltk.tokenize import word_tokenize\n",
    "import nltk\n",
    "import csv\n",
    "import json\n",
    "import unicodedata\n",
    "def calculate_meteor_score(candidate, reference):\n",
    "    \"\"\"\n",
    "    计算机器翻译候选文本与参考文本之间的Meteor Score。\n",
    "\n",
    "    参数:\n",
    "        candidate (str): 机器翻译的候选文本。\n",
    "        reference (str): 参考文本，正确的翻译。\n",
    "\n",
    "    返回:\n",
    "        float: Meteor Score值，范围从0到1，分数越高表示翻译越好。\n",
    "    \"\"\"\n",
    "    # 对文本进行Unicode编码，并将其转换为小写，以便进行比较。\n",
    "    candidate = unidecode(candidate.lower())\n",
    "    reference = unidecode(reference.lower())\n",
    "\n",
    "    # 将候选文本和参考文本分词\n",
    "    candidate_tokens = word_tokenize(candidate)\n",
    "    reference_tokens = word_tokenize(reference)\n",
    "\n",
    "    # 计算Meteor Score\n",
    "    score = single_meteor_score(reference_tokens, candidate_tokens)\n",
    "\n",
    "    return score\n",
    "ini1=0\n",
    "for i in range(len(hpi_refine)):\n",
    "    score = calculate_meteor_score(ini[i],ref[i][0])\n",
    "    ini1=ini1+score\n",
    "print(ini1)"
   ]
  }
 ],
 "metadata": {
  "kernelspec": {
   "display_name": "paddle",
   "language": "python",
   "name": "paddle"
  },
  "language_info": {
   "codemirror_mode": {
    "name": "ipython",
    "version": 3
   },
   "file_extension": ".py",
   "mimetype": "text/x-python",
   "name": "python",
   "nbconvert_exporter": "python",
   "pygments_lexer": "ipython3",
   "version": "3.8.16"
  }
 },
 "nbformat": 4,
 "nbformat_minor": 5
}
